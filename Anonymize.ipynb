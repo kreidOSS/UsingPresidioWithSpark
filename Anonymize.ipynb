{
  "cells": [
    {
      "cell_type": "code",
      "source": [
        "from presidio_analyzer import AnalyzerEngine\r\n",
        "from presidio_anonymizer import AnonymizerEngine\r\n",
        "from presidio_anonymizer.entities import OperatorConfig\r\n",
        "from pyspark.sql.types import StringType\r\n",
        "from pyspark.sql.functions import input_file_name, regexp_replace\r\n",
        "from pyspark.sql.functions import col, pandas_udf\r\n",
        "import pandas as pd\r\n",
        "import os"
      ],
      "outputs": [
        {
          "output_type": "display_data",
          "data": {
            "application/vnd.livy.statement-meta+json": {
              "spark_pool": "presido",
              "session_id": 8,
              "statement_id": 1,
              "state": "finished",
              "livy_statement_state": "available",
              "queued_time": "2022-01-03T02:53:30.1351366Z",
              "session_start_time": "2022-01-03T02:53:30.1790328Z",
              "execution_start_time": "2022-01-03T02:54:35.5998922Z",
              "execution_finish_time": "2022-01-03T02:54:41.5232234Z"
            },
            "text/plain": "StatementMeta(presido, 8, 1, Finished, Available)"
          },
          "metadata": {}
        }
      ],
      "execution_count": 1,
      "metadata": {
        "jupyter": {
          "source_hidden": false,
          "outputs_hidden": false
        },
        "nteract": {
          "transient": {
            "deleting": false
          }
        }
      }
    },
    {
      "cell_type": "code",
      "source": [
        "#read sample file to get initial values\r\n",
        "df = spark.read.option(\"header\",True).csv(\"/MOCK_DATE.csv\")\r\n",
        "display(df)"
      ],
      "outputs": [
        {
          "output_type": "display_data",
          "data": {
            "application/vnd.livy.statement-meta+json": {
              "spark_pool": "presido",
              "session_id": 8,
              "statement_id": 2,
              "state": "finished",
              "livy_statement_state": "available",
              "queued_time": "2022-01-03T02:54:54.7930475Z",
              "session_start_time": null,
              "execution_start_time": "2022-01-03T02:54:54.8860041Z",
              "execution_finish_time": "2022-01-03T02:55:24.1978643Z"
            },
            "text/plain": "StatementMeta(presido, 8, 2, Finished, Available)"
          },
          "metadata": {}
        },
        {
          "output_type": "display_data",
          "data": {
            "application/vnd.synapse.widget-view+json": {
              "widget_id": "7fa1da47-57de-485a-8611-aa10cfe25671",
              "widget_type": "Synapse.DataFrame"
            },
            "text/plain": "SynapseWidget(Synapse.DataFrame, 7fa1da47-57de-485a-8611-aa10cfe25671)"
          },
          "metadata": {}
        }
      ],
      "execution_count": 2,
      "metadata": {
        "jupyter": {
          "source_hidden": false,
          "outputs_hidden": false
        },
        "nteract": {
          "transient": {
            "deleting": false
          }
        },
        "collapsed": false
      }
    },
    {
      "cell_type": "code",
      "source": [
        "from presidio_analyzer import AnalyzerEngine, PatternRecognizer, EntityRecognizer, Pattern, RecognizerResult\r\n",
        "\r\n",
        "#set up analyzer and anonymizer\r\n",
        "analyzer = AnalyzerEngine()\r\n",
        "anonymizer = AnonymizerEngine()\r\n",
        "\r\n",
        " \r\n",
        "#Based on simple example:https://microsoft.github.io/presidio/samples/python/presidio_notebook/\r\n",
        "#Add names I want to anonymize.\r\n",
        "titles_list = [\"Roda\", \"Stirling\",\"Terrijo\", \"Chrisse\", \"Leyla\"]\r\n",
        "titles_recognizer = PatternRecognizer(supported_entity=\"TITLE\", deny_list=titles_list)\r\n",
        "\r\n",
        "ip_pattern = Pattern(name=\"ip_pattern\",regex=\"\\d{1,3}\\.\\d{1,3}\\.\\d{1,3}\\.\\d{1,3}\", score = 0.5)\r\n",
        "# Define the recognizer with one or more patterns\r\n",
        "ip_recognizer = PatternRecognizer(supported_entity=\"IPADDRESS\", patterns = [ip_pattern])\r\n",
        "\r\n",
        "\r\n",
        "#Register Patterns\r\n",
        "analyzer.registry.add_recognizer(titles_recognizer)\r\n",
        "analyzer.registry.add_recognizer(ip_recognizer)\r\n",
        "\r\n",
        "\r\n",
        "broadcasted_analyzer = sc.broadcast(analyzer)\r\n",
        "broadcasted_anonymizer = sc.broadcast(anonymizer)"
      ],
      "outputs": [
        {
          "output_type": "display_data",
          "data": {
            "application/vnd.livy.statement-meta+json": {
              "spark_pool": "presido",
              "session_id": 8,
              "statement_id": 3,
              "state": "finished",
              "livy_statement_state": "available",
              "queued_time": "2022-01-03T02:55:33.28253Z",
              "session_start_time": null,
              "execution_start_time": "2022-01-03T02:55:33.4566279Z",
              "execution_finish_time": "2022-01-03T02:55:43.9481373Z"
            },
            "text/plain": "StatementMeta(presido, 8, 3, Finished, Available)"
          },
          "metadata": {}
        },
        {
          "output_type": "stream",
          "name": "stdout",
          "text": [
            "configuration file /home/trusted-service-user/cluster-env/env/lib/python3.8/site-packages/conf/default.yaml not found.  Using default config: {'nlp_engine_name': 'spacy', 'models': [{'lang_code': 'en', 'model_name': 'en_core_web_lg'}]}."
          ]
        }
      ],
      "execution_count": 3,
      "metadata": {
        "jupyter": {
          "source_hidden": false,
          "outputs_hidden": false
        },
        "nteract": {
          "transient": {
            "deleting": false
          }
        }
      }
    },
    {
      "cell_type": "code",
      "source": [
        "#can be expanded to use any of the following techniques:https://microsoft.github.io/presidio/anonymizer/#built-in-operators\r\n",
        "from pyspark.sql.types import StringType\r\n",
        "from pyspark.sql.functions import udf\r\n",
        "@udf(returnType=StringType()) \r\n",
        "def at(text: str):\r\n",
        "    analyzer = broadcasted_analyzer.value\r\n",
        "    anonymizer = broadcasted_anonymizer.value\r\n",
        "    #Add entities to analyze\r\n",
        "    analyzer_results = analyzer.analyze(text=text, entities=[\"TITLE\",\"EMAIL_ADDRESS\", \"IPADDRESS\"] ,language=\"en\")\r\n",
        "    #Anonymize if one of the names match\r\n",
        "    anonymized_results = anonymizer.anonymize(\r\n",
        "        text=text,\r\n",
        "        analyzer_results=analyzer_results,\r\n",
        "        operators={\"DEFAULT\": OperatorConfig(\"replace\", {\"new_value\": \"<ANONYMIZED>\"}),\r\n",
        "        #EMAIL_ADDRESS is a built-in supported entity\r\n",
        "        \"EMAIL_ADDRESS\": OperatorConfig(\"hash\"),\r\n",
        "        #Instead of built-in IP_ADDRESS entity, we are using a custom entity\r\n",
        "        \"IPADDRESS\": OperatorConfig(\"mask\", {\"type\": \"mask\", \"masking_char\" : \"*\", \"chars_to_mask\" : 12, \"from_end\" : True})\r\n",
        "        },\r\n",
        "    )\r\n",
        "    return anonymized_results.text"
      ],
      "outputs": [
        {
          "output_type": "display_data",
          "data": {
            "application/vnd.livy.statement-meta+json": {
              "spark_pool": "presido",
              "session_id": 8,
              "statement_id": 4,
              "state": "finished",
              "livy_statement_state": "available",
              "queued_time": "2022-01-03T02:55:46.5737587Z",
              "session_start_time": null,
              "execution_start_time": "2022-01-03T02:55:46.6952298Z",
              "execution_finish_time": "2022-01-03T02:55:46.8421696Z"
            },
            "text/plain": "StatementMeta(presido, 8, 4, Finished, Available)"
          },
          "metadata": {}
        }
      ],
      "execution_count": 4,
      "metadata": {
        "jupyter": {
          "source_hidden": false,
          "outputs_hidden": false
        },
        "nteract": {
          "transient": {
            "deleting": false
          }
        }
      }
    },
    {
      "cell_type": "code",
      "source": [
        "#Register UDF\r\n",
        "from pyspark.sql.functions import udf\r\n",
        "from pyspark.sql.types import IntegerType,StringType\r\n",
        "anon = udf(at, StringType())\r\n"
      ],
      "outputs": [
        {
          "output_type": "display_data",
          "data": {
            "application/vnd.livy.statement-meta+json": {
              "spark_pool": "presido",
              "session_id": 8,
              "statement_id": 5,
              "state": "finished",
              "livy_statement_state": "available",
              "queued_time": "2022-01-03T02:55:48.9258173Z",
              "session_start_time": null,
              "execution_start_time": "2022-01-03T02:55:49.0309785Z",
              "execution_finish_time": "2022-01-03T02:55:49.1962989Z"
            },
            "text/plain": "StatementMeta(presido, 8, 5, Finished, Available)"
          },
          "metadata": {}
        }
      ],
      "execution_count": 5,
      "metadata": {
        "jupyter": {
          "source_hidden": false,
          "outputs_hidden": false
        },
        "nteract": {
          "transient": {
            "deleting": false
          }
        }
      }
    },
    {
      "cell_type": "code",
      "source": [
        "# apply the udf\r\n",
        "anonymized_df = (df\r\n",
        "    .withColumn(\"first_name\", anon.func(col(\"first_name\")))\r\n",
        "    .withColumn(\"email\", anon.func(col(\"email\")))\r\n",
        "    .withColumn(\"ip_address\", anon.func(col(\"ip_address\")))\r\n",
        "    )\r\n",
        "\r\n",
        "#Display Anonymized dataframe\r\n",
        "display(anonymized_df)"
      ],
      "outputs": [
        {
          "output_type": "display_data",
          "data": {
            "application/vnd.livy.statement-meta+json": {
              "spark_pool": "presido",
              "session_id": 8,
              "statement_id": 6,
              "state": "finished",
              "livy_statement_state": "available",
              "queued_time": "2022-01-03T02:55:55.8155485Z",
              "session_start_time": null,
              "execution_start_time": "2022-01-03T02:55:55.9343681Z",
              "execution_finish_time": "2022-01-03T02:56:55.7699273Z"
            },
            "text/plain": "StatementMeta(presido, 8, 6, Finished, Available)"
          },
          "metadata": {}
        },
        {
          "output_type": "display_data",
          "data": {
            "application/vnd.synapse.widget-view+json": {
              "widget_id": "13183f40-a46f-47ed-9225-03ff322523df",
              "widget_type": "Synapse.DataFrame"
            },
            "text/plain": "SynapseWidget(Synapse.DataFrame, 13183f40-a46f-47ed-9225-03ff322523df)"
          },
          "metadata": {}
        }
      ],
      "execution_count": 6,
      "metadata": {
        "jupyter": {
          "source_hidden": false,
          "outputs_hidden": false
        },
        "nteract": {
          "transient": {
            "deleting": false
          }
        },
        "collapsed": false
      }
    }
  ],
  "metadata": {
    "kernelspec": {
      "name": "synapse_pyspark",
      "language": "Python",
      "display_name": "Synapse PySpark"
    },
    "language_info": {
      "name": "python"
    },
    "kernel_info": {
      "name": "synapse_pyspark"
    },
    "description": null,
    "save_output": true,
    "synapse_widget": {
      "version": "0.1",
      "state": {
        "7fa1da47-57de-485a-8611-aa10cfe25671": {
          "type": "Synapse.DataFrame",
          "sync_state": {
            "table": {
              "rows": [
                {
                  "0": "1",
                  "1": "Roda",
                  "2": "Zink",
                  "3": "rzink0@mlb.com",
                  "4": "Non-binary",
                  "5": "97.138.130.100",
                  "6": "1006-07-25"
                },
                {
                  "0": "2",
                  "1": "Jilleen",
                  "2": "Costley",
                  "3": "jcostley1@fotki.com",
                  "4": "Non-binary",
                  "5": "231.185.161.43",
                  "6": "1052-06-06"
                },
                {
                  "0": "3",
                  "1": "Stirling",
                  "2": "Northover",
                  "3": "snorthover2@adobe.com",
                  "4": "Female",
                  "5": "44.133.21.199",
                  "6": "1063-05-15"
                },
                {
                  "0": "4",
                  "1": "Terrijo",
                  "2": "Pischel",
                  "3": "tpischel3@etsy.com",
                  "4": "Bigender",
                  "5": "127.92.189.17",
                  "6": "1053-04-27"
                },
                {
                  "0": "5",
                  "1": "Rici",
                  "2": "Skeldon",
                  "3": "rskeldon4@desdev.cn",
                  "4": "Female",
                  "5": "233.93.110.186",
                  "6": "1025-02-14"
                },
                {
                  "0": "6",
                  "1": "Christiana",
                  "2": "Skipworth",
                  "3": "cskipworth5@oaic.gov.au",
                  "4": "Bigender",
                  "5": "87.181.245.122",
                  "6": "1075-10-04"
                },
                {
                  "0": "7",
                  "1": "Ilysa",
                  "2": "Piwell",
                  "3": "ipiwell6@topsy.com",
                  "4": "Polygender",
                  "5": "95.220.203.14",
                  "6": "1002-07-14"
                },
                {
                  "0": "8",
                  "1": "Chrisse",
                  "2": "Kennagh",
                  "3": "ckennagh7@csmonitor.com",
                  "4": "Polygender",
                  "5": "189.207.249.130",
                  "6": "1030-09-26"
                },
                {
                  "0": "9",
                  "1": "Starlene",
                  "2": "Winders",
                  "3": "swinders8@utexas.edu",
                  "4": "Genderqueer",
                  "5": "112.181.87.53",
                  "6": "1005-08-02"
                },
                {
                  "0": "10",
                  "1": "Leyla",
                  "2": "Morales",
                  "3": "lmorales9@shinystat.com",
                  "4": "Female",
                  "5": "229.121.61.127",
                  "6": "1061-07-24"
                }
              ],
              "schema": [
                {
                  "key": "0",
                  "name": "id",
                  "type": "string"
                },
                {
                  "key": "1",
                  "name": "first_name",
                  "type": "string"
                },
                {
                  "key": "2",
                  "name": "last_name",
                  "type": "string"
                },
                {
                  "key": "3",
                  "name": "email",
                  "type": "string"
                },
                {
                  "key": "4",
                  "name": "gender",
                  "type": "string"
                },
                {
                  "key": "5",
                  "name": "ip_address",
                  "type": "string"
                },
                {
                  "key": "6",
                  "name": "Creation_Date",
                  "type": "string"
                }
              ]
            },
            "isSummary": false,
            "language": "scala"
          },
          "persist_state": {
            "view": {
              "type": "details",
              "tableOptions": {},
              "chartOptions": {
                "chartType": "bar",
                "aggregationType": "count",
                "categoryFieldKeys": [
                  "0"
                ],
                "seriesFieldKeys": [
                  "0"
                ],
                "isStacked": false
              }
            }
          }
        },
        "13183f40-a46f-47ed-9225-03ff322523df": {
          "type": "Synapse.DataFrame",
          "sync_state": {
            "table": {
              "rows": [
                {
                  "0": "1",
                  "1": "<ANONYMIZED>",
                  "2": "Zink",
                  "3": "0b56bfc6b1ed44069b8409a3c97f986fd1b432d388e71e930a75de6a24407267",
                  "4": "Non-binary",
                  "5": "97************",
                  "6": "1006-07-25"
                },
                {
                  "0": "2",
                  "1": "Jilleen",
                  "2": "Costley",
                  "3": "19b7ae3067010579be689c9e75579d0a17cef25054757f86ae06558c7ccc9bf4",
                  "4": "Non-binary",
                  "5": "23************",
                  "6": "1052-06-06"
                },
                {
                  "0": "3",
                  "1": "<ANONYMIZED>",
                  "2": "Northover",
                  "3": "b09861cbddc4aa2f32936569bce0361694c69c5b2d50f6bb5c3520bd486b30c2",
                  "4": "Female",
                  "5": "4************",
                  "6": "1063-05-15"
                },
                {
                  "0": "4",
                  "1": "<ANONYMIZED>",
                  "2": "Pischel",
                  "3": "cd796dbdfc4a80dadf1227500036440e360e7693104b16d81a1ce6aa4d702f0a",
                  "4": "Bigender",
                  "5": "1************",
                  "6": "1053-04-27"
                },
                {
                  "0": "5",
                  "1": "Rici",
                  "2": "Skeldon",
                  "3": "d4e0501c5487394bf76e92c2d142d33f4a593edf281816c89c60532f94450a4b",
                  "4": "Female",
                  "5": "23************",
                  "6": "1025-02-14"
                },
                {
                  "0": "6",
                  "1": "Christiana",
                  "2": "Skipworth",
                  "3": "667bd7c4191c719acc151bc37e8c3f19cfd3af085723ef11e090b826ff6c84ce",
                  "4": "Bigender",
                  "5": "87************",
                  "6": "1075-10-04"
                },
                {
                  "0": "7",
                  "1": "Ilysa",
                  "2": "Piwell",
                  "3": "60b9c87b38549bcaa29b685f9617e2e92bf464c7caca8b8ccd6eb369d7e5afd6",
                  "4": "Polygender",
                  "5": "9************",
                  "6": "1002-07-14"
                },
                {
                  "0": "8",
                  "1": "<ANONYMIZED>",
                  "2": "Kennagh",
                  "3": "25ce260dc2d4149511e0eaef0c38051b8b9f11d45218e9eba0f62f137b0009e2",
                  "4": "Polygender",
                  "5": "189************",
                  "6": "1030-09-26"
                },
                {
                  "0": "9",
                  "1": "Starlene",
                  "2": "Winders",
                  "3": "e318bd631757c6796875475b7032fdc4542fa359e038b276c668f3a2f2fd5685",
                  "4": "Genderqueer",
                  "5": "1************",
                  "6": "1005-08-02"
                },
                {
                  "0": "10",
                  "1": "<ANONYMIZED>",
                  "2": "Morales",
                  "3": "73cccc709160718f73890c8c5b4f8e9d6e10d50fd55ceac8f527f3b58f8b8fe2",
                  "4": "Female",
                  "5": "22************",
                  "6": "1061-07-24"
                }
              ],
              "schema": [
                {
                  "key": "0",
                  "name": "id",
                  "type": "string"
                },
                {
                  "key": "1",
                  "name": "first_name",
                  "type": "string"
                },
                {
                  "key": "2",
                  "name": "last_name",
                  "type": "string"
                },
                {
                  "key": "3",
                  "name": "email",
                  "type": "string"
                },
                {
                  "key": "4",
                  "name": "gender",
                  "type": "string"
                },
                {
                  "key": "5",
                  "name": "ip_address",
                  "type": "string"
                },
                {
                  "key": "6",
                  "name": "Creation_Date",
                  "type": "string"
                }
              ]
            },
            "isSummary": false,
            "language": "scala"
          },
          "persist_state": {
            "view": {
              "type": "details",
              "tableOptions": {},
              "chartOptions": {
                "chartType": "bar",
                "aggregationType": "count",
                "categoryFieldKeys": [
                  "0"
                ],
                "seriesFieldKeys": [
                  "0"
                ],
                "isStacked": false
              }
            }
          }
        }
      }
    }
  },
  "nbformat": 4,
  "nbformat_minor": 2
}